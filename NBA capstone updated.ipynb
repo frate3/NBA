{
 "cells": [
  {
   "cell_type": "code",
   "execution_count": 2,
   "id": "16ba46b0",
   "metadata": {},
   "outputs": [],
   "source": [
    "import pandas as pd\n",
    "import numpy as np\n",
    "from time import sleep\n",
    "\n",
    "from sklearn.linear_model import LinearRegression\n",
    "from sklearn.model_selection import train_test_split\n",
    "\n",
    "from nba_api.stats.static.players import get_players, get_active_players\n",
    "from nba_api.stats.static.teams import get_teams\n",
    "from nba_api.stats.endpoints import leaguestandings, playercareerstats"
   ]
  },
  {
   "cell_type": "code",
   "execution_count": 3,
   "id": "2df41255",
   "metadata": {},
   "outputs": [],
   "source": [
    "#TODO make in csv and read_csv\n",
    "all_teams = pd.DataFrame(get_teams())\n",
    "all_players = pd.DataFrame(get_players())\n",
    "active_players = pd.DataFrame(get_active_players())\n",
    "# standings = leaguestandings.LeagueStandings(league_id='00', season='2022-23', season_type='Regular Season')\n",
    "# standings = standings.get_data_frames()[0]\n",
    "# standings.to_csv(\"standings.csv\")"
   ]
  },
  {
   "cell_type": "code",
   "execution_count": 1,
   "id": "5de2fca4",
   "metadata": {},
   "outputs": [],
   "source": [
    "# results = []\n",
    "# for p_id in active_players['id'].values:\n",
    "#     print('start {}'.format(p_id))\n",
    "#     stats_obj = playercareerstats.PlayerCareerStats(player_id=p_id)\n",
    "#     stats_df = stats_obj.get_data_frames()[0]\n",
    "#     results.append(stats_df)\n",
    "#     print('done {}'.format(p_id))\n",
    "#     sleep(1)\n",
    "\n",
    "# df = pd.concat(results)\n",
    "# df.to_csv(\"PlayerCareerStats.csv\")"
   ]
  },
  {
   "cell_type": "markdown",
   "id": "c9ba3cec",
   "metadata": {},
   "source": [
    "Questions:\n",
    "Does the top scorers points impact the teams record?\n"
   ]
  },
  {
   "cell_type": "code",
   "execution_count": 4,
   "id": "384d5720",
   "metadata": {},
   "outputs": [],
   "source": [
    "standings = pd.read_csv(\"standings.csv\",index_col=0)\n",
    "player_stats = pd.read_csv(\"PlayerCareerStats.csv\",index_col=0)\n",
    "player_stats = player_stats.merge(active_players[[\"id\",\"full_name\"]], left_on=\"PLAYER_ID\", right_on=\"id\")\n",
    "player_stats[\"PPG\"] = player_stats[\"PTS\"]/player_stats[\"GP\"]"
   ]
  },
  {
   "cell_type": "code",
   "execution_count": 5,
   "id": "ede08e79",
   "metadata": {},
   "outputs": [],
   "source": [
    "current_stats = player_stats[player_stats[\"SEASON_ID\"]==\"2022-23\"]"
   ]
  },
  {
   "cell_type": "code",
   "execution_count": 6,
   "id": "19f85e49",
   "metadata": {},
   "outputs": [],
   "source": [
    "results=[]\n",
    "for team in all_teams[\"abbreviation\"].values:\n",
    "    team_stats = current_stats[current_stats[\"TEAM_ABBREVIATION\"] == team]\n",
    "    top = team_stats.sort_values(\"PPG\", ascending=False).iloc[0]\n",
    "    results.append(top)"
   ]
  },
  {
   "cell_type": "code",
   "execution_count": 7,
   "id": "8fa195d5",
   "metadata": {},
   "outputs": [],
   "source": [
    "top_players = pd.concat(results, axis = 1).T"
   ]
  },
  {
   "cell_type": "code",
   "execution_count": 8,
   "id": "39d18db6",
   "metadata": {},
   "outputs": [],
   "source": [
    "x = top_players[[\"PPG\"]]\n",
    "y = standings.set_index(\"TeamName\")[\"WINS\"]"
   ]
  },
  {
   "cell_type": "code",
   "execution_count": 9,
   "id": "b49fcac6",
   "metadata": {},
   "outputs": [
    {
     "data": {
      "text/plain": [
       "LeagueID                            0\n",
       "SeasonID                        22022\n",
       "TeamID                     1610612743\n",
       "TeamCity                       Denver\n",
       "TeamName                      Nuggets\n",
       "Conference                       West\n",
       "ConferenceRecord                34-18\n",
       "PlayoffRank                         1\n",
       "ClinchIndicator                   - w\n",
       "Division                    Northwest\n",
       "DivisionRecord                  10-6 \n",
       "DivisionRank                        1\n",
       "WINS                               53\n",
       "LOSSES                             29\n",
       "WinPCT                          0.646\n",
       "LeagueRank                          0\n",
       "Record                          53-29\n",
       "HOME                            34-7 \n",
       "ROAD                            19-22\n",
       "L10                             5-5  \n",
       "Last10Home                      7-3  \n",
       "Last10Road                      3-7  \n",
       "OT                              3-0  \n",
       "ThreePTSOrLess                  7-6  \n",
       "TenPTSOrMore                    29-15\n",
       "LongHomeStreak                     16\n",
       "strLongHomeStreak                W 16\n",
       "LongRoadStreak                     -4\n",
       "strLongRoadStreak                 L 4\n",
       "LongWinStreak                       9\n",
       "LongLossStreak                      4\n",
       "CurrentHomeStreak                   2\n",
       "strCurrentHomeStreak              W 2\n",
       "CurrentRoadStreak                  -4\n",
       "strCurrentRoadStreak              L 4\n",
       "CurrentStreak                       1\n",
       "strCurrentStreak                  W 1\n",
       "ConferenceGamesBack               0.0\n",
       "DivisionGamesBack                 0.0\n",
       "ClinchedConferenceTitle             1\n",
       "ClinchedDivisionTitle               1\n",
       "ClinchedPlayoffBirth                1\n",
       "EliminatedConference                0\n",
       "EliminatedDivision                  0\n",
       "AheadAtHalf                     33-9 \n",
       "BehindAtHalf                    18-20\n",
       "TiedAtHalf                      2-0  \n",
       "AheadAtThird                    41-4 \n",
       "BehindAtThird                   10-24\n",
       "TiedAtThird                     2-1  \n",
       "Name: 0, dtype: object"
      ]
     },
     "execution_count": 9,
     "metadata": {},
     "output_type": "execute_result"
    }
   ],
   "source": [
    "standings.iloc[0][:50]"
   ]
  },
  {
   "cell_type": "code",
   "execution_count": null,
   "id": "dd1278b5",
   "metadata": {},
   "outputs": [],
   "source": []
  }
 ],
 "metadata": {
  "kernelspec": {
   "display_name": "Python 3 (ipykernel)",
   "language": "python",
   "name": "python3"
  },
  "language_info": {
   "codemirror_mode": {
    "name": "ipython",
    "version": 3
   },
   "file_extension": ".py",
   "mimetype": "text/x-python",
   "name": "python",
   "nbconvert_exporter": "python",
   "pygments_lexer": "ipython3",
   "version": "3.9.13"
  }
 },
 "nbformat": 4,
 "nbformat_minor": 5
}
